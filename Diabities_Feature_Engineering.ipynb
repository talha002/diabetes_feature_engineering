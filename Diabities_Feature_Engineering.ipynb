{
 "cells": [
  {
   "cell_type": "markdown",
   "metadata": {},
   "source": [
    "## Importing libraries"
   ]
  },
  {
   "cell_type": "code",
   "execution_count": 1,
   "metadata": {},
   "outputs": [],
   "source": [
    "import pandas as pd\n",
    "import numpy as np\n",
    "import matplotlib.pyplot as plt\n",
    "import seaborn as sns\n",
    "from sklearn.preprocessing import MinMaxScaler\n",
    "from sklearn.model_selection import train_test_split\n",
    "from sklearn.ensemble import RandomForestClassifier\n",
    "from sklearn.metrics import accuracy_score, confusion_matrix"
   ]
  },
  {
   "cell_type": "markdown",
   "metadata": {},
   "source": [
    "## Importing Dataset"
   ]
  },
  {
   "cell_type": "code",
   "execution_count": 2,
   "metadata": {},
   "outputs": [],
   "source": [
    "pd.set_option('display.max_columns', None)\n",
    "pd.set_option('display.width', 500)\n",
    "df_ = pd.read_csv(r'diabetes.csv')\n",
    "df = df_.copy()\n",
    "\n",
    "TARGET = 'Outcome'"
   ]
  },
  {
   "cell_type": "markdown",
   "metadata": {},
   "source": [
    "## Task 1: Exploratory Data Analytics"
   ]
  },
  {
   "cell_type": "markdown",
   "metadata": {},
   "source": [
    "### Step 1:  Examine the overall picture."
   ]
  },
  {
   "cell_type": "code",
   "execution_count": 3,
   "metadata": {},
   "outputs": [
    {
     "name": "stdout",
     "output_type": "stream",
     "text": [
      "##################### Shape #####################\n",
      "(768, 9)\n",
      "##################### Types #####################\n",
      "Pregnancies                   int64\n",
      "Glucose                       int64\n",
      "BloodPressure                 int64\n",
      "SkinThickness                 int64\n",
      "Insulin                       int64\n",
      "BMI                         float64\n",
      "DiabetesPedigreeFunction    float64\n",
      "Age                           int64\n",
      "Outcome                       int64\n",
      "dtype: object\n",
      "##################### Head #####################\n",
      "   Pregnancies  Glucose  BloodPressure  SkinThickness  Insulin   BMI  DiabetesPedigreeFunction  Age  Outcome\n",
      "0            6      148             72             35        0  33.6                     0.627   50        1\n",
      "1            1       85             66             29        0  26.6                     0.351   31        0\n",
      "2            8      183             64              0        0  23.3                     0.672   32        1\n",
      "3            1       89             66             23       94  28.1                     0.167   21        0\n",
      "4            0      137             40             35      168  43.1                     2.288   33        1\n",
      "##################### Tail #####################\n",
      "     Pregnancies  Glucose  BloodPressure  SkinThickness  Insulin   BMI  DiabetesPedigreeFunction  Age  Outcome\n",
      "763           10      101             76             48      180  32.9                     0.171   63        0\n",
      "764            2      122             70             27        0  36.8                     0.340   27        0\n",
      "765            5      121             72             23      112  26.2                     0.245   30        0\n",
      "766            1      126             60              0        0  30.1                     0.349   47        1\n",
      "767            1       93             70             31        0  30.4                     0.315   23        0\n",
      "##################### NA #####################\n",
      "Pregnancies                 0\n",
      "Glucose                     0\n",
      "BloodPressure               0\n",
      "SkinThickness               0\n",
      "Insulin                     0\n",
      "BMI                         0\n",
      "DiabetesPedigreeFunction    0\n",
      "Age                         0\n",
      "Outcome                     0\n",
      "dtype: int64\n",
      "##################### Quantiles #####################\n",
      "                          count        mean         std     min      0%        5%       50%        95%        99%    100%     max\n",
      "Pregnancies               768.0    3.845052    3.369578   0.000   0.000   0.00000    3.0000   10.00000   13.00000   17.00   17.00\n",
      "Glucose                   768.0  120.894531   31.972618   0.000   0.000  79.00000  117.0000  181.00000  196.00000  199.00  199.00\n",
      "BloodPressure             768.0   69.105469   19.355807   0.000   0.000  38.70000   72.0000   90.00000  106.00000  122.00  122.00\n",
      "SkinThickness             768.0   20.536458   15.952218   0.000   0.000   0.00000   23.0000   44.00000   51.33000   99.00   99.00\n",
      "Insulin                   768.0   79.799479  115.244002   0.000   0.000   0.00000   30.5000  293.00000  519.90000  846.00  846.00\n",
      "BMI                       768.0   31.992578    7.884160   0.000   0.000  21.80000   32.0000   44.39500   50.75900   67.10   67.10\n",
      "DiabetesPedigreeFunction  768.0    0.471876    0.331329   0.078   0.078   0.14035    0.3725    1.13285    1.69833    2.42    2.42\n",
      "Age                       768.0   33.240885   11.760232  21.000  21.000  21.00000   29.0000   58.00000   67.00000   81.00   81.00\n",
      "Outcome                   768.0    0.348958    0.476951   0.000   0.000   0.00000    0.0000    1.00000    1.00000    1.00    1.00\n",
      "##################### nunique #####################\n",
      "Pregnancies                  17\n",
      "Glucose                     136\n",
      "BloodPressure                47\n",
      "SkinThickness                51\n",
      "Insulin                     186\n",
      "BMI                         248\n",
      "DiabetesPedigreeFunction    517\n",
      "Age                          52\n",
      "Outcome                       2\n",
      "dtype: int64\n"
     ]
    }
   ],
   "source": [
    "def check_df(dataframe, head = 5):\n",
    "\n",
    "    print(\"##################### Shape #####################\")\n",
    "    print(dataframe.shape)\n",
    "    print(\"##################### Types #####################\")\n",
    "    print(dataframe.dtypes)\n",
    "    print(\"##################### Head #####################\")\n",
    "    print(dataframe.head(head))\n",
    "    print(\"##################### Tail #####################\")\n",
    "    print(dataframe.tail(head))\n",
    "    print(\"##################### NA #####################\")\n",
    "    print(dataframe.isnull().sum())\n",
    "    print(\"##################### Quantiles #####################\")\n",
    "    print(dataframe.describe([0, 0.05, 0.50, 0.95, 0.99, 1]).T)\n",
    "    print(\"##################### nunique #####################\")\n",
    "    print(dataframe.nunique())\n",
    "\n",
    "check_df(df)"
   ]
  },
  {
   "cell_type": "markdown",
   "metadata": {},
   "source": [
    "### Step 2: Capture numeric and categorical variables."
   ]
  },
  {
   "cell_type": "code",
   "execution_count": 4,
   "metadata": {},
   "outputs": [
    {
     "name": "stdout",
     "output_type": "stream",
     "text": [
      "Observations: 768\n",
      "Variables: 9\n",
      "cat_cols: 1\n",
      "num_cols: 7\n",
      "cat_but_car: 0\n",
      "num_but_cat: 1\n"
     ]
    }
   ],
   "source": [
    "def grab_col_names(dataframe, target, cat_th=10, car_th=20):\n",
    "    \"\"\"\n",
    "    Returns the names of categorical, numeric and categorical but cardinal variables in the data set.\n",
    "    Note Categorical variables include categorical variables with numeric appearance.   \n",
    "\n",
    "    Parameters\n",
    "    ------\n",
    "        dataframe: dataframe\n",
    "                Dataframe to get variable names\n",
    "        cat_th: int, optional\n",
    "                class threshold for numeric but categorical variables\n",
    "        car_th: int, optinal\n",
    "                class threshold for categorical but cardinal variables\n",
    "        target: str\n",
    "                Dependent (target) variable\n",
    "\n",
    "    Returns\n",
    "    ------\n",
    "        cat_cols: list\n",
    "                Categorical variable list\n",
    "        num_cols: list\n",
    "                Numeric variable list\n",
    "        cat_but_car: list\n",
    "                List of cardinal variables with categorical view\n",
    "\n",
    "    Examples\n",
    "    ------\n",
    "        import seaborn as sns\n",
    "        df = sns.load_dataset(\"iris\")\n",
    "        print(grab_col_names(df))\n",
    "\n",
    "\n",
    "    Notes\n",
    "    ------\n",
    "        cat_cols + num_cols + cat_but_car = total number of variables\n",
    "        num_but_cat is inside cat_cols.\n",
    "        The sum of the 3 return lists equals the total number of variables: cat_cols + num_cols + cat_but_car = number of variables\n",
    "    \"\"\"\n",
    "\n",
    "    # cat_cols, cat_but_car\n",
    "    cat_cols_mask = [col for col in dataframe.columns if dataframe[col].dtypes == \"O\"\n",
    "                     and dataframe[col].nunique() < car_th and col != target]\n",
    "    num_but_cat = [col for col in dataframe.columns if dataframe[col].dtypes != \"O\"\n",
    "                   and dataframe[col].nunique() < cat_th and col != target]\n",
    "    cat_but_car = [col for col in dataframe.columns if dataframe[col].dtypes == \"O\" and\n",
    "                   col not in cat_cols_mask and col != target]\n",
    "\n",
    "    cat_cols = cat_cols_mask + num_but_cat\n",
    "\n",
    "    # num_cols\n",
    "    num_cols = [col for col in dataframe.columns if dataframe[col].dtypes != \"O\"\n",
    "                and col not in num_but_cat and col != target]\n",
    "\n",
    "    print(f\"Observations: {dataframe.shape[0]}\")\n",
    "    print(f\"Variables: {dataframe.shape[1]}\")\n",
    "    print(f'cat_cols: {len(cat_cols)}')\n",
    "    print(f'num_cols: {len(num_cols)}')\n",
    "    print(f'cat_but_car: {len(cat_but_car)}')\n",
    "    print(f'num_but_cat: {len(num_but_cat)}')\n",
    "    return cat_cols, num_cols, cat_but_car\n",
    "\n",
    "cat_cols, num_cols, cat_but_car = grab_col_names(df, TARGET, cat_th=20)"
   ]
  },
  {
   "cell_type": "markdown",
   "metadata": {},
   "source": [
    "### Step 3: Analyze numeric and categorical variables."
   ]
  },
  {
   "cell_type": "markdown",
   "metadata": {},
   "source": [
    "Numerical columns:"
   ]
  },
  {
   "cell_type": "code",
   "execution_count": 5,
   "metadata": {},
   "outputs": [
    {
     "data": {
      "text/html": [
       "<div>\n",
       "<style scoped>\n",
       "    .dataframe tbody tr th:only-of-type {\n",
       "        vertical-align: middle;\n",
       "    }\n",
       "\n",
       "    .dataframe tbody tr th {\n",
       "        vertical-align: top;\n",
       "    }\n",
       "\n",
       "    .dataframe thead th {\n",
       "        text-align: right;\n",
       "    }\n",
       "</style>\n",
       "<table border=\"1\" class=\"dataframe\">\n",
       "  <thead>\n",
       "    <tr style=\"text-align: right;\">\n",
       "      <th></th>\n",
       "      <th>count</th>\n",
       "      <th>mean</th>\n",
       "      <th>std</th>\n",
       "      <th>min</th>\n",
       "      <th>25%</th>\n",
       "      <th>50%</th>\n",
       "      <th>75%</th>\n",
       "      <th>max</th>\n",
       "    </tr>\n",
       "  </thead>\n",
       "  <tbody>\n",
       "    <tr>\n",
       "      <th>Glucose</th>\n",
       "      <td>768.0</td>\n",
       "      <td>120.894531</td>\n",
       "      <td>31.972618</td>\n",
       "      <td>0.000</td>\n",
       "      <td>99.00000</td>\n",
       "      <td>117.0000</td>\n",
       "      <td>140.25000</td>\n",
       "      <td>199.00</td>\n",
       "    </tr>\n",
       "    <tr>\n",
       "      <th>BloodPressure</th>\n",
       "      <td>768.0</td>\n",
       "      <td>69.105469</td>\n",
       "      <td>19.355807</td>\n",
       "      <td>0.000</td>\n",
       "      <td>62.00000</td>\n",
       "      <td>72.0000</td>\n",
       "      <td>80.00000</td>\n",
       "      <td>122.00</td>\n",
       "    </tr>\n",
       "    <tr>\n",
       "      <th>SkinThickness</th>\n",
       "      <td>768.0</td>\n",
       "      <td>20.536458</td>\n",
       "      <td>15.952218</td>\n",
       "      <td>0.000</td>\n",
       "      <td>0.00000</td>\n",
       "      <td>23.0000</td>\n",
       "      <td>32.00000</td>\n",
       "      <td>99.00</td>\n",
       "    </tr>\n",
       "    <tr>\n",
       "      <th>Insulin</th>\n",
       "      <td>768.0</td>\n",
       "      <td>79.799479</td>\n",
       "      <td>115.244002</td>\n",
       "      <td>0.000</td>\n",
       "      <td>0.00000</td>\n",
       "      <td>30.5000</td>\n",
       "      <td>127.25000</td>\n",
       "      <td>846.00</td>\n",
       "    </tr>\n",
       "    <tr>\n",
       "      <th>BMI</th>\n",
       "      <td>768.0</td>\n",
       "      <td>31.992578</td>\n",
       "      <td>7.884160</td>\n",
       "      <td>0.000</td>\n",
       "      <td>27.30000</td>\n",
       "      <td>32.0000</td>\n",
       "      <td>36.60000</td>\n",
       "      <td>67.10</td>\n",
       "    </tr>\n",
       "    <tr>\n",
       "      <th>DiabetesPedigreeFunction</th>\n",
       "      <td>768.0</td>\n",
       "      <td>0.471876</td>\n",
       "      <td>0.331329</td>\n",
       "      <td>0.078</td>\n",
       "      <td>0.24375</td>\n",
       "      <td>0.3725</td>\n",
       "      <td>0.62625</td>\n",
       "      <td>2.42</td>\n",
       "    </tr>\n",
       "    <tr>\n",
       "      <th>Age</th>\n",
       "      <td>768.0</td>\n",
       "      <td>33.240885</td>\n",
       "      <td>11.760232</td>\n",
       "      <td>21.000</td>\n",
       "      <td>24.00000</td>\n",
       "      <td>29.0000</td>\n",
       "      <td>41.00000</td>\n",
       "      <td>81.00</td>\n",
       "    </tr>\n",
       "  </tbody>\n",
       "</table>\n",
       "</div>"
      ],
      "text/plain": [
       "                          count        mean         std     min       25%       50%        75%     max\n",
       "Glucose                   768.0  120.894531   31.972618   0.000  99.00000  117.0000  140.25000  199.00\n",
       "BloodPressure             768.0   69.105469   19.355807   0.000  62.00000   72.0000   80.00000  122.00\n",
       "SkinThickness             768.0   20.536458   15.952218   0.000   0.00000   23.0000   32.00000   99.00\n",
       "Insulin                   768.0   79.799479  115.244002   0.000   0.00000   30.5000  127.25000  846.00\n",
       "BMI                       768.0   31.992578    7.884160   0.000  27.30000   32.0000   36.60000   67.10\n",
       "DiabetesPedigreeFunction  768.0    0.471876    0.331329   0.078   0.24375    0.3725    0.62625    2.42\n",
       "Age                       768.0   33.240885   11.760232  21.000  24.00000   29.0000   41.00000   81.00"
      ]
     },
     "execution_count": 5,
     "metadata": {},
     "output_type": "execute_result"
    }
   ],
   "source": [
    "df[num_cols].describe().T"
   ]
  },
  {
   "cell_type": "code",
   "execution_count": 6,
   "metadata": {},
   "outputs": [
    {
     "data": {
      "text/plain": [
       "Glucose                     0\n",
       "BloodPressure               0\n",
       "SkinThickness               0\n",
       "Insulin                     0\n",
       "BMI                         0\n",
       "DiabetesPedigreeFunction    0\n",
       "Age                         0\n",
       "dtype: int64"
      ]
     },
     "execution_count": 6,
     "metadata": {},
     "output_type": "execute_result"
    }
   ],
   "source": [
    "df[num_cols].isnull().sum()"
   ]
  },
  {
   "cell_type": "markdown",
   "metadata": {},
   "source": [
    "Categorical columns:"
   ]
  },
  {
   "cell_type": "code",
   "execution_count": 7,
   "metadata": {},
   "outputs": [
    {
     "data": {
      "text/html": [
       "<div>\n",
       "<style scoped>\n",
       "    .dataframe tbody tr th:only-of-type {\n",
       "        vertical-align: middle;\n",
       "    }\n",
       "\n",
       "    .dataframe tbody tr th {\n",
       "        vertical-align: top;\n",
       "    }\n",
       "\n",
       "    .dataframe thead th {\n",
       "        text-align: right;\n",
       "    }\n",
       "</style>\n",
       "<table border=\"1\" class=\"dataframe\">\n",
       "  <thead>\n",
       "    <tr style=\"text-align: right;\">\n",
       "      <th></th>\n",
       "      <th>count</th>\n",
       "      <th>mean</th>\n",
       "      <th>std</th>\n",
       "      <th>min</th>\n",
       "      <th>25%</th>\n",
       "      <th>50%</th>\n",
       "      <th>75%</th>\n",
       "      <th>max</th>\n",
       "    </tr>\n",
       "  </thead>\n",
       "  <tbody>\n",
       "    <tr>\n",
       "      <th>Pregnancies</th>\n",
       "      <td>768.0</td>\n",
       "      <td>3.845052</td>\n",
       "      <td>3.369578</td>\n",
       "      <td>0.0</td>\n",
       "      <td>1.0</td>\n",
       "      <td>3.0</td>\n",
       "      <td>6.0</td>\n",
       "      <td>17.0</td>\n",
       "    </tr>\n",
       "  </tbody>\n",
       "</table>\n",
       "</div>"
      ],
      "text/plain": [
       "             count      mean       std  min  25%  50%  75%   max\n",
       "Pregnancies  768.0  3.845052  3.369578  0.0  1.0  3.0  6.0  17.0"
      ]
     },
     "execution_count": 7,
     "metadata": {},
     "output_type": "execute_result"
    }
   ],
   "source": [
    "df[cat_cols].describe().T"
   ]
  },
  {
   "cell_type": "code",
   "execution_count": 8,
   "metadata": {},
   "outputs": [
    {
     "data": {
      "text/plain": [
       "Pregnancies    0\n",
       "dtype: int64"
      ]
     },
     "execution_count": 8,
     "metadata": {},
     "output_type": "execute_result"
    }
   ],
   "source": [
    "df[cat_cols].isnull().sum()"
   ]
  },
  {
   "cell_type": "markdown",
   "metadata": {},
   "source": [
    "### Step 4: Analyze the target variable (mean of the target variable according to categorical variables, mean of the numeric variables relative to the target variable)"
   ]
  },
  {
   "cell_type": "code",
   "execution_count": 9,
   "metadata": {},
   "outputs": [
    {
     "data": {
      "text/plain": [
       "Pregnancies\n",
       "0     0.342342\n",
       "1     0.214815\n",
       "2     0.184466\n",
       "3     0.360000\n",
       "4     0.338235\n",
       "5     0.368421\n",
       "6     0.320000\n",
       "7     0.555556\n",
       "8     0.578947\n",
       "9     0.642857\n",
       "10    0.416667\n",
       "11    0.636364\n",
       "12    0.444444\n",
       "13    0.500000\n",
       "14    1.000000\n",
       "15    1.000000\n",
       "17    1.000000\n",
       "Name: Outcome, dtype: float64"
      ]
     },
     "execution_count": 9,
     "metadata": {},
     "output_type": "execute_result"
    }
   ],
   "source": [
    "df.groupby(cat_cols)[TARGET].mean()"
   ]
  },
  {
   "cell_type": "code",
   "execution_count": 10,
   "metadata": {},
   "outputs": [
    {
     "data": {
      "text/html": [
       "<div>\n",
       "<style scoped>\n",
       "    .dataframe tbody tr th:only-of-type {\n",
       "        vertical-align: middle;\n",
       "    }\n",
       "\n",
       "    .dataframe tbody tr th {\n",
       "        vertical-align: top;\n",
       "    }\n",
       "\n",
       "    .dataframe thead th {\n",
       "        text-align: right;\n",
       "    }\n",
       "</style>\n",
       "<table border=\"1\" class=\"dataframe\">\n",
       "  <thead>\n",
       "    <tr style=\"text-align: right;\">\n",
       "      <th></th>\n",
       "      <th>Glucose</th>\n",
       "      <th>BloodPressure</th>\n",
       "      <th>SkinThickness</th>\n",
       "      <th>Insulin</th>\n",
       "      <th>BMI</th>\n",
       "      <th>DiabetesPedigreeFunction</th>\n",
       "      <th>Age</th>\n",
       "    </tr>\n",
       "    <tr>\n",
       "      <th>Outcome</th>\n",
       "      <th></th>\n",
       "      <th></th>\n",
       "      <th></th>\n",
       "      <th></th>\n",
       "      <th></th>\n",
       "      <th></th>\n",
       "      <th></th>\n",
       "    </tr>\n",
       "  </thead>\n",
       "  <tbody>\n",
       "    <tr>\n",
       "      <th>0</th>\n",
       "      <td>109.980000</td>\n",
       "      <td>68.184000</td>\n",
       "      <td>19.664000</td>\n",
       "      <td>68.792000</td>\n",
       "      <td>30.304200</td>\n",
       "      <td>0.429734</td>\n",
       "      <td>31.190000</td>\n",
       "    </tr>\n",
       "    <tr>\n",
       "      <th>1</th>\n",
       "      <td>141.257463</td>\n",
       "      <td>70.824627</td>\n",
       "      <td>22.164179</td>\n",
       "      <td>100.335821</td>\n",
       "      <td>35.142537</td>\n",
       "      <td>0.550500</td>\n",
       "      <td>37.067164</td>\n",
       "    </tr>\n",
       "  </tbody>\n",
       "</table>\n",
       "</div>"
      ],
      "text/plain": [
       "            Glucose  BloodPressure  SkinThickness     Insulin        BMI  DiabetesPedigreeFunction        Age\n",
       "Outcome                                                                                                      \n",
       "0        109.980000      68.184000      19.664000   68.792000  30.304200                  0.429734  31.190000\n",
       "1        141.257463      70.824627      22.164179  100.335821  35.142537                  0.550500  37.067164"
      ]
     },
     "execution_count": 10,
     "metadata": {},
     "output_type": "execute_result"
    }
   ],
   "source": [
    "df.groupby(TARGET)[num_cols].mean()"
   ]
  },
  {
   "cell_type": "markdown",
   "metadata": {},
   "source": [
    "### Step 5: Conduct outlier analysis."
   ]
  },
  {
   "cell_type": "code",
   "execution_count": 11,
   "metadata": {},
   "outputs": [],
   "source": [
    "def outlier_thresholds(dataframe, col_name, q1=0.25, q3=0.75):\n",
    "    '''\n",
    "    This function calculates the lower and upper bounds for identifying outliers in a specified column of a DataFrame.\n",
    "\n",
    "    Parameters:\n",
    "    dataframe: The DataFrame containing the data.\n",
    "    col_name: The name of the column for which you want to calculate outlier thresholds.\n",
    "    q1 (default 0.25): The lower quartile (25th percentile) value used to calculate the lower limit.\n",
    "    q3 (default 0.75): The upper quartile (75th percentile) value used to calculate the upper limit.\n",
    "    '''\n",
    "\n",
    "    quartile1 = dataframe[col_name].quantile(q1)\n",
    "    quartile3 = dataframe[col_name].quantile(q3)\n",
    "    interquantile_range = quartile3 - quartile1\n",
    "    up_limit = quartile3 + 1.5 * interquantile_range\n",
    "    low_limit = quartile1 - 1.5 * interquantile_range\n",
    "    return low_limit, up_limit\n",
    "\n",
    "def check_outlier(dataframe, col_name, print_values=False):\n",
    "    '''\n",
    "    This function checks for outliers in a specified column of a DataFrame using the thresholds calculated by the outlier_thresholds function.\n",
    "\n",
    "    Parameters:\n",
    "    dataframe: The DataFrame containing the data.\n",
    "    col_name: The name of the column to check for outliers.\n",
    "    print_values (default False): A boolean flag indicating whether to print the actual outlier values if any are found.\n",
    "    '''\n",
    "\n",
    "    low_limit, up_limit = outlier_thresholds(dataframe, col_name)\n",
    "    if dataframe[(dataframe[col_name] > up_limit) |\n",
    "                 (dataframe[col_name] < low_limit)].any(axis=None):\n",
    "        if print_values:\n",
    "            print(f'Values with higher values than upper limit in {col_name}:\\n'\n",
    "                  f'{dataframe.loc[dataframe[col_name] > up_limit, col_name]}\\n')\n",
    "            print(f'Values with lower values than lower limit in {col_name}:\\n'\n",
    "                  f'{dataframe.loc[dataframe[col_name] < low_limit, col_name]}\\n',)\n",
    "        else:\n",
    "            print(f'There is outlined data in {col_name}')\n",
    "        return True\n",
    "    else:\n",
    "        print(f'There is no outlined data in {col_name}')\n",
    "        return False"
   ]
  },
  {
   "cell_type": "code",
   "execution_count": 12,
   "metadata": {},
   "outputs": [
    {
     "name": "stdout",
     "output_type": "stream",
     "text": [
      "Values with higher values than upper limit in Pregnancies:\n",
      "88     15\n",
      "159    17\n",
      "298    14\n",
      "455    14\n",
      "Name: Pregnancies, dtype: int64\n",
      "\n",
      "Values with lower values than lower limit in Pregnancies:\n",
      "Series([], Name: Pregnancies, dtype: int64)\n",
      "\n",
      "Values with higher values than upper limit in Glucose:\n",
      "Series([], Name: Glucose, dtype: int64)\n",
      "\n",
      "Values with lower values than lower limit in Glucose:\n",
      "75     0\n",
      "182    0\n",
      "342    0\n",
      "349    0\n",
      "502    0\n",
      "Name: Glucose, dtype: int64\n",
      "\n",
      "Values with higher values than upper limit in BloodPressure:\n",
      "43     110\n",
      "84     108\n",
      "106    122\n",
      "177    110\n",
      "362    108\n",
      "549    110\n",
      "691    114\n",
      "Name: BloodPressure, dtype: int64\n",
      "\n",
      "Values with lower values than lower limit in BloodPressure:\n",
      "7       0\n",
      "15      0\n",
      "18     30\n",
      "49      0\n",
      "60      0\n",
      "78      0\n",
      "81      0\n",
      "125    30\n",
      "172     0\n",
      "193     0\n",
      "222     0\n",
      "261     0\n",
      "266     0\n",
      "269     0\n",
      "300     0\n",
      "332     0\n",
      "336     0\n",
      "347     0\n",
      "357     0\n",
      "426     0\n",
      "430     0\n",
      "435     0\n",
      "453     0\n",
      "468     0\n",
      "484     0\n",
      "494     0\n",
      "522     0\n",
      "533     0\n",
      "535     0\n",
      "589     0\n",
      "597    24\n",
      "601     0\n",
      "604     0\n",
      "619     0\n",
      "643     0\n",
      "697     0\n",
      "703     0\n",
      "706     0\n",
      "Name: BloodPressure, dtype: int64\n",
      "\n",
      "Values with higher values than upper limit in SkinThickness:\n",
      "579    99\n",
      "Name: SkinThickness, dtype: int64\n",
      "\n",
      "Values with lower values than lower limit in SkinThickness:\n",
      "Series([], Name: SkinThickness, dtype: int64)\n",
      "\n",
      "Values with higher values than upper limit in Insulin:\n",
      "8      543\n",
      "13     846\n",
      "54     342\n",
      "111    495\n",
      "139    325\n",
      "153    485\n",
      "186    495\n",
      "220    478\n",
      "228    744\n",
      "231    370\n",
      "247    680\n",
      "248    402\n",
      "258    375\n",
      "286    545\n",
      "296    360\n",
      "360    325\n",
      "370    465\n",
      "375    325\n",
      "392    415\n",
      "409    579\n",
      "415    474\n",
      "480    328\n",
      "486    480\n",
      "519    326\n",
      "574    330\n",
      "584    600\n",
      "612    321\n",
      "645    440\n",
      "655    540\n",
      "695    480\n",
      "707    335\n",
      "710    387\n",
      "715    392\n",
      "753    510\n",
      "Name: Insulin, dtype: int64\n",
      "\n",
      "Values with lower values than lower limit in Insulin:\n",
      "Series([], Name: Insulin, dtype: int64)\n",
      "\n",
      "Values with higher values than upper limit in BMI:\n",
      "120    53.2\n",
      "125    55.0\n",
      "177    67.1\n",
      "193    52.3\n",
      "247    52.3\n",
      "303    52.9\n",
      "445    59.4\n",
      "673    57.3\n",
      "Name: BMI, dtype: float64\n",
      "\n",
      "Values with lower values than lower limit in BMI:\n",
      "9      0.0\n",
      "49     0.0\n",
      "60     0.0\n",
      "81     0.0\n",
      "145    0.0\n",
      "371    0.0\n",
      "426    0.0\n",
      "494    0.0\n",
      "522    0.0\n",
      "684    0.0\n",
      "706    0.0\n",
      "Name: BMI, dtype: float64\n",
      "\n",
      "Values with higher values than upper limit in DiabetesPedigreeFunction:\n",
      "4      2.288\n",
      "12     1.441\n",
      "39     1.390\n",
      "45     1.893\n",
      "58     1.781\n",
      "100    1.222\n",
      "147    1.400\n",
      "187    1.321\n",
      "218    1.224\n",
      "228    2.329\n",
      "243    1.318\n",
      "245    1.213\n",
      "259    1.353\n",
      "292    1.224\n",
      "308    1.391\n",
      "330    1.476\n",
      "370    2.137\n",
      "371    1.731\n",
      "383    1.268\n",
      "395    1.600\n",
      "445    2.420\n",
      "534    1.251\n",
      "593    1.699\n",
      "606    1.258\n",
      "618    1.282\n",
      "621    1.698\n",
      "622    1.461\n",
      "659    1.292\n",
      "661    1.394\n",
      "Name: DiabetesPedigreeFunction, dtype: float64\n",
      "\n",
      "Values with lower values than lower limit in DiabetesPedigreeFunction:\n",
      "Series([], Name: DiabetesPedigreeFunction, dtype: float64)\n",
      "\n",
      "Values with higher values than upper limit in Age:\n",
      "123    69\n",
      "363    67\n",
      "453    72\n",
      "459    81\n",
      "489    67\n",
      "537    67\n",
      "666    70\n",
      "674    68\n",
      "684    69\n",
      "Name: Age, dtype: int64\n",
      "\n",
      "Values with lower values than lower limit in Age:\n",
      "Series([], Name: Age, dtype: int64)\n",
      "\n",
      "There is no outlined data in Outcome\n"
     ]
    }
   ],
   "source": [
    "for col in df.columns:\n",
    "    check_outlier(df, col, print_values=True)"
   ]
  },
  {
   "cell_type": "markdown",
   "metadata": {},
   "source": [
    "### Step 6: Analyze missing observations."
   ]
  },
  {
   "cell_type": "code",
   "execution_count": 13,
   "metadata": {},
   "outputs": [],
   "source": [
    "def missing_values_table(dataframe, na_name=False):\n",
    "    '''\n",
    "    This Python function, missing_values_table, is designed to provide a summary of missing values in a DataFrame\n",
    "\n",
    "    Parameters:\n",
    "    dataframe: The DataFrame for which you want to analyze missing values.\n",
    "    na_name (default False): A boolean flag that, when set to True, returns a list of column names with missing values.\n",
    "    '''\n",
    "    na_columns = [col for col in dataframe.columns if dataframe[col].isnull().sum() > 0]\n",
    "\n",
    "    n_miss = dataframe[na_columns].isnull().sum().sort_values(ascending=False)\n",
    "    ratio = (dataframe[na_columns].isnull().sum() / dataframe.shape[0] * 100).sort_values(ascending=False)\n",
    "    missing_df = pd.concat([n_miss, np.round(ratio, 2)], axis=1, keys=['n_miss', 'ratio'])\n",
    "    print(missing_df, end=\"\\n\")\n",
    "\n",
    "    if na_name:\n",
    "        return na_columns"
   ]
  },
  {
   "cell_type": "code",
   "execution_count": 14,
   "metadata": {},
   "outputs": [
    {
     "name": "stdout",
     "output_type": "stream",
     "text": [
      "Empty DataFrame\n",
      "Columns: [n_miss, ratio]\n",
      "Index: []\n"
     ]
    },
    {
     "data": {
      "text/plain": [
       "[]"
      ]
     },
     "execution_count": 14,
     "metadata": {},
     "output_type": "execute_result"
    }
   ],
   "source": [
    "missing_values_table(df, na_name=True)"
   ]
  },
  {
   "cell_type": "markdown",
   "metadata": {},
   "source": [
    "### Step 7: Conduct correlation analysis."
   ]
  },
  {
   "cell_type": "code",
   "execution_count": 15,
   "metadata": {},
   "outputs": [
    {
     "data": {
      "text/plain": [
       "<AxesSubplot:>"
      ]
     },
     "execution_count": 15,
     "metadata": {},
     "output_type": "execute_result"
    },
    {
     "data": {
      "image/png": "[encoded data removed]",
      "text/plain": [
       "<Figure size 1080x576 with 2 Axes>"
      ]
     },
     "metadata": {
      "needs_background": "light"
     },
     "output_type": "display_data"
    }
   ],
   "source": [
    "# plotting correlation heatmap\n",
    "plt.figure(figsize=(15, 8))\n",
    "sns.heatmap(df.corr(), cmap=\"YlGnBu\", annot=True)"
   ]
  },
  {
   "cell_type": "code",
   "execution_count": 16,
   "metadata": {},
   "outputs": [
    {
     "data": {
      "text/plain": [
       "Pregnancies                 0.221898\n",
       "Glucose                     0.466581\n",
       "BloodPressure               0.065068\n",
       "SkinThickness               0.074752\n",
       "Insulin                     0.130548\n",
       "BMI                         0.292695\n",
       "DiabetesPedigreeFunction    0.173844\n",
       "Age                         0.238356\n",
       "Outcome                     1.000000\n",
       "Name: Outcome, dtype: float64"
      ]
     },
     "execution_count": 16,
     "metadata": {},
     "output_type": "execute_result"
    }
   ],
   "source": [
    "# Correlation with the target value\n",
    "df.corr()[TARGET]"
   ]
  },
  {
   "cell_type": "markdown",
   "metadata": {},
   "source": [
    "## Task 2 : Feature Engineering"
   ]
  },
  {
   "cell_type": "markdown",
   "metadata": {},
   "source": [
    "### Step 1: Take necessary actions for missing and outliers. "
   ]
  },
  {
   "cell_type": "markdown",
   "metadata": {},
   "source": [
    "There are no missing observations in the data set, but observation units with 0 values in Glucose, Insulin, etc. observation units containing a value of 0 in variables such as Glucose, Insulin, etc. may represent a missing value."
   ]
  },
  {
   "cell_type": "code",
   "execution_count": 17,
   "metadata": {},
   "outputs": [],
   "source": [
    "for col in df.columns:\n",
    "    if df[df[col] == 0].any(axis=None) and col != 'Pregnancies' and col != 'Outcome':\n",
    "        df.loc[df[col] == 0, col] = np.nan"
   ]
  },
  {
   "cell_type": "code",
   "execution_count": 18,
   "metadata": {},
   "outputs": [
    {
     "name": "stdout",
     "output_type": "stream",
     "text": [
      "               n_miss  ratio\n",
      "Insulin           374  48.70\n",
      "SkinThickness     227  29.56\n",
      "BloodPressure      35   4.56\n",
      "BMI                11   1.43\n",
      "Glucose             5   0.65\n"
     ]
    }
   ],
   "source": [
    "columns_with_miss = missing_values_table(df, na_name=True)"
   ]
  },
  {
   "cell_type": "code",
   "execution_count": 19,
   "metadata": {},
   "outputs": [
    {
     "data": {
      "text/plain": [
       "<AxesSubplot:>"
      ]
     },
     "execution_count": 19,
     "metadata": {},
     "output_type": "execute_result"
    },
    {
     "data": {
      "image/png": "[encoded data removed]",
      "text/plain": [
       "<Figure size 1080x576 with 1 Axes>"
      ]
     },
     "metadata": {
      "needs_background": "light"
     },
     "output_type": "display_data"
    }
   ],
   "source": [
    "plt.figure(figsize=(15, 8))\n",
    "df['Insulin'].hist(bins=20)"
   ]
  },
  {
   "cell_type": "markdown",
   "metadata": {},
   "source": [
    "When we look at the insulin values, we see a left skewed data distribution, so it would make sense to fill in the missing data with the median."
   ]
  },
  {
   "cell_type": "code",
   "execution_count": 20,
   "metadata": {},
   "outputs": [],
   "source": [
    "df[\"Insulin\"].fillna(df[\"Insulin\"].median(), inplace=True)"
   ]
  },
  {
   "cell_type": "markdown",
   "metadata": {},
   "source": [
    "When we look at the Skin Thickness values, we see a more balanced data distribution, except for outliers, so it makes sense to fill in the missing data with mean."
   ]
  },
  {
   "cell_type": "code",
   "execution_count": 21,
   "metadata": {},
   "outputs": [
    {
     "data": {
      "text/plain": [
       "<AxesSubplot:>"
      ]
     },
     "execution_count": 21,
     "metadata": {},
     "output_type": "execute_result"
    },
    {
     "data": {
      "image/png": "[encoded data removed]",
      "text/plain": [
       "<Figure size 1080x576 with 1 Axes>"
      ]
     },
     "metadata": {
      "needs_background": "light"
     },
     "output_type": "display_data"
    }
   ],
   "source": [
    "plt.figure(figsize=(15, 8))\n",
    "df['SkinThickness'].hist(bins=20)"
   ]
  },
  {
   "cell_type": "markdown",
   "metadata": {},
   "source": [
    "Since there will be little data loss in the remaining variables, we can directly drop the missing data."
   ]
  },
  {
   "cell_type": "code",
   "execution_count": 22,
   "metadata": {},
   "outputs": [],
   "source": [
    "df.dropna(inplace=True)"
   ]
  },
  {
   "cell_type": "markdown",
   "metadata": {},
   "source": [
    "Step 2: Create new variables."
   ]
  },
  {
   "cell_type": "markdown",
   "metadata": {},
   "source": [
    "We could create new features according to literature informations down below:\n",
    "\n",
    "- Glucose, which is taken in with food and gets into the bloodstream, causes blood sugar to rise.\n",
    "- Insulin organizes the passage of glucose from the blood into the cells where it is used.\n",
    "- Thanks to insulin, glucose in the blood is drawn into the cells and glucose in the blood accumulation is prevented."
   ]
  },
  {
   "cell_type": "code",
   "execution_count": 23,
   "metadata": {},
   "outputs": [],
   "source": [
    "df['Glucose-Insulin_BloodPressure_Ratio'] = df['Glucose'] / df['Insulin'] * df['BloodPressure']"
   ]
  },
  {
   "cell_type": "markdown",
   "metadata": {},
   "source": [
    "- As a result of research, it has been concluded that people with very high blood sugar levels experience more frequent and severe skin changes than those with normal blood sugar levels. "
   ]
  },
  {
   "cell_type": "code",
   "execution_count": 24,
   "metadata": {},
   "outputs": [],
   "source": [
    "df['BloodPressure_Skin_Ratio'] = df['BloodPressure'] / df['SkinThickness']\n",
    "df['Glucose-Insulin_Skin_Ratio'] = df['Glucose'] / df['Insulin'] * df['SkinThickness']"
   ]
  },
  {
   "cell_type": "markdown",
   "metadata": {},
   "source": [
    "### Step 3: Perform encoding operations."
   ]
  },
  {
   "cell_type": "code",
   "execution_count": 25,
   "metadata": {},
   "outputs": [
    {
     "data": {
      "text/html": [
       "<div>\n",
       "<style scoped>\n",
       "    .dataframe tbody tr th:only-of-type {\n",
       "        vertical-align: middle;\n",
       "    }\n",
       "\n",
       "    .dataframe tbody tr th {\n",
       "        vertical-align: top;\n",
       "    }\n",
       "\n",
       "    .dataframe thead th {\n",
       "        text-align: right;\n",
       "    }\n",
       "</style>\n",
       "<table border=\"1\" class=\"dataframe\">\n",
       "  <thead>\n",
       "    <tr style=\"text-align: right;\">\n",
       "      <th></th>\n",
       "      <th>Glucose</th>\n",
       "      <th>BloodPressure</th>\n",
       "      <th>SkinThickness</th>\n",
       "      <th>Insulin</th>\n",
       "      <th>BMI</th>\n",
       "      <th>DiabetesPedigreeFunction</th>\n",
       "      <th>Age</th>\n",
       "      <th>Outcome</th>\n",
       "      <th>Glucose-Insulin_BloodPressure_Ratio</th>\n",
       "      <th>BloodPressure_Skin_Ratio</th>\n",
       "      <th>Glucose-Insulin_Skin_Ratio</th>\n",
       "      <th>Pregnancies_1</th>\n",
       "      <th>Pregnancies_2</th>\n",
       "      <th>Pregnancies_3</th>\n",
       "      <th>Pregnancies_4</th>\n",
       "      <th>Pregnancies_5</th>\n",
       "      <th>Pregnancies_6</th>\n",
       "      <th>Pregnancies_7</th>\n",
       "      <th>Pregnancies_8</th>\n",
       "      <th>Pregnancies_9</th>\n",
       "      <th>Pregnancies_10</th>\n",
       "      <th>Pregnancies_11</th>\n",
       "      <th>Pregnancies_12</th>\n",
       "      <th>Pregnancies_13</th>\n",
       "      <th>Pregnancies_14</th>\n",
       "      <th>Pregnancies_15</th>\n",
       "      <th>Pregnancies_17</th>\n",
       "    </tr>\n",
       "  </thead>\n",
       "  <tbody>\n",
       "    <tr>\n",
       "      <th>0</th>\n",
       "      <td>148.0</td>\n",
       "      <td>72.0</td>\n",
       "      <td>35.0</td>\n",
       "      <td>125.0</td>\n",
       "      <td>33.6</td>\n",
       "      <td>0.627</td>\n",
       "      <td>50</td>\n",
       "      <td>1</td>\n",
       "      <td>85.248000</td>\n",
       "      <td>2.057143</td>\n",
       "      <td>41.440000</td>\n",
       "      <td>0</td>\n",
       "      <td>0</td>\n",
       "      <td>0</td>\n",
       "      <td>0</td>\n",
       "      <td>0</td>\n",
       "      <td>1</td>\n",
       "      <td>0</td>\n",
       "      <td>0</td>\n",
       "      <td>0</td>\n",
       "      <td>0</td>\n",
       "      <td>0</td>\n",
       "      <td>0</td>\n",
       "      <td>0</td>\n",
       "      <td>0</td>\n",
       "      <td>0</td>\n",
       "      <td>0</td>\n",
       "    </tr>\n",
       "    <tr>\n",
       "      <th>1</th>\n",
       "      <td>85.0</td>\n",
       "      <td>66.0</td>\n",
       "      <td>29.0</td>\n",
       "      <td>125.0</td>\n",
       "      <td>26.6</td>\n",
       "      <td>0.351</td>\n",
       "      <td>31</td>\n",
       "      <td>0</td>\n",
       "      <td>44.880000</td>\n",
       "      <td>2.275862</td>\n",
       "      <td>19.720000</td>\n",
       "      <td>1</td>\n",
       "      <td>0</td>\n",
       "      <td>0</td>\n",
       "      <td>0</td>\n",
       "      <td>0</td>\n",
       "      <td>0</td>\n",
       "      <td>0</td>\n",
       "      <td>0</td>\n",
       "      <td>0</td>\n",
       "      <td>0</td>\n",
       "      <td>0</td>\n",
       "      <td>0</td>\n",
       "      <td>0</td>\n",
       "      <td>0</td>\n",
       "      <td>0</td>\n",
       "      <td>0</td>\n",
       "    </tr>\n",
       "    <tr>\n",
       "      <th>3</th>\n",
       "      <td>89.0</td>\n",
       "      <td>66.0</td>\n",
       "      <td>23.0</td>\n",
       "      <td>94.0</td>\n",
       "      <td>28.1</td>\n",
       "      <td>0.167</td>\n",
       "      <td>21</td>\n",
       "      <td>0</td>\n",
       "      <td>62.489362</td>\n",
       "      <td>2.869565</td>\n",
       "      <td>21.776596</td>\n",
       "      <td>1</td>\n",
       "      <td>0</td>\n",
       "      <td>0</td>\n",
       "      <td>0</td>\n",
       "      <td>0</td>\n",
       "      <td>0</td>\n",
       "      <td>0</td>\n",
       "      <td>0</td>\n",
       "      <td>0</td>\n",
       "      <td>0</td>\n",
       "      <td>0</td>\n",
       "      <td>0</td>\n",
       "      <td>0</td>\n",
       "      <td>0</td>\n",
       "      <td>0</td>\n",
       "      <td>0</td>\n",
       "    </tr>\n",
       "    <tr>\n",
       "      <th>4</th>\n",
       "      <td>137.0</td>\n",
       "      <td>40.0</td>\n",
       "      <td>35.0</td>\n",
       "      <td>168.0</td>\n",
       "      <td>43.1</td>\n",
       "      <td>2.288</td>\n",
       "      <td>33</td>\n",
       "      <td>1</td>\n",
       "      <td>32.619048</td>\n",
       "      <td>1.142857</td>\n",
       "      <td>28.541667</td>\n",
       "      <td>0</td>\n",
       "      <td>0</td>\n",
       "      <td>0</td>\n",
       "      <td>0</td>\n",
       "      <td>0</td>\n",
       "      <td>0</td>\n",
       "      <td>0</td>\n",
       "      <td>0</td>\n",
       "      <td>0</td>\n",
       "      <td>0</td>\n",
       "      <td>0</td>\n",
       "      <td>0</td>\n",
       "      <td>0</td>\n",
       "      <td>0</td>\n",
       "      <td>0</td>\n",
       "      <td>0</td>\n",
       "    </tr>\n",
       "    <tr>\n",
       "      <th>6</th>\n",
       "      <td>78.0</td>\n",
       "      <td>50.0</td>\n",
       "      <td>32.0</td>\n",
       "      <td>88.0</td>\n",
       "      <td>31.0</td>\n",
       "      <td>0.248</td>\n",
       "      <td>26</td>\n",
       "      <td>1</td>\n",
       "      <td>44.318182</td>\n",
       "      <td>1.562500</td>\n",
       "      <td>28.363636</td>\n",
       "      <td>0</td>\n",
       "      <td>0</td>\n",
       "      <td>1</td>\n",
       "      <td>0</td>\n",
       "      <td>0</td>\n",
       "      <td>0</td>\n",
       "      <td>0</td>\n",
       "      <td>0</td>\n",
       "      <td>0</td>\n",
       "      <td>0</td>\n",
       "      <td>0</td>\n",
       "      <td>0</td>\n",
       "      <td>0</td>\n",
       "      <td>0</td>\n",
       "      <td>0</td>\n",
       "      <td>0</td>\n",
       "    </tr>\n",
       "  </tbody>\n",
       "</table>\n",
       "</div>"
      ],
      "text/plain": [
       "   Glucose  BloodPressure  SkinThickness  Insulin   BMI  DiabetesPedigreeFunction  Age  Outcome  Glucose-Insulin_BloodPressure_Ratio  BloodPressure_Skin_Ratio  Glucose-Insulin_Skin_Ratio  Pregnancies_1  Pregnancies_2  Pregnancies_3  Pregnancies_4  Pregnancies_5  Pregnancies_6  Pregnancies_7  Pregnancies_8  Pregnancies_9  Pregnancies_10  Pregnancies_11  Pregnancies_12  Pregnancies_13  Pregnancies_14  Pregnancies_15  Pregnancies_17\n",
       "0    148.0           72.0           35.0    125.0  33.6                     0.627   50        1                            85.248000                  2.057143                   41.440000              0              0              0              0              0              1              0              0              0               0               0               0               0               0               0               0\n",
       "1     85.0           66.0           29.0    125.0  26.6                     0.351   31        0                            44.880000                  2.275862                   19.720000              1              0              0              0              0              0              0              0              0               0               0               0               0               0               0               0\n",
       "3     89.0           66.0           23.0     94.0  28.1                     0.167   21        0                            62.489362                  2.869565                   21.776596              1              0              0              0              0              0              0              0              0               0               0               0               0               0               0               0\n",
       "4    137.0           40.0           35.0    168.0  43.1                     2.288   33        1                            32.619048                  1.142857                   28.541667              0              0              0              0              0              0              0              0              0               0               0               0               0               0               0               0\n",
       "6     78.0           50.0           32.0     88.0  31.0                     0.248   26        1                            44.318182                  1.562500                   28.363636              0              0              1              0              0              0              0              0              0               0               0               0               0               0               0               0"
      ]
     },
     "execution_count": 25,
     "metadata": {},
     "output_type": "execute_result"
    }
   ],
   "source": [
    "df = pd.get_dummies(df, columns=[\"Pregnancies\"], drop_first=True)\n",
    "df.head()"
   ]
  },
  {
   "cell_type": "markdown",
   "metadata": {},
   "source": [
    "Step 4: Standardize for numeric variables."
   ]
  },
  {
   "cell_type": "code",
   "execution_count": 26,
   "metadata": {},
   "outputs": [],
   "source": [
    "mms = MinMaxScaler()\n",
    "df[num_cols] = mms.fit_transform(df[num_cols])"
   ]
  },
  {
   "cell_type": "markdown",
   "metadata": {},
   "source": [
    "Step 5: Create a model."
   ]
  },
  {
   "cell_type": "code",
   "execution_count": 27,
   "metadata": {},
   "outputs": [],
   "source": [
    "y = df[TARGET]\n",
    "X = df.drop([TARGET], axis=1)\n",
    "\n",
    "X_train, X_test, y_train, y_test = train_test_split(X, y, test_size=0.30)\n",
    "\n",
    "rf_model = RandomForestClassifier(random_state=50).fit(X_train, y_train)\n",
    "y_pred = rf_model.predict(X_test)"
   ]
  },
  {
   "cell_type": "code",
   "execution_count": 28,
   "metadata": {},
   "outputs": [],
   "source": [
    "cf_matrix = confusion_matrix(y_test, y_pred)"
   ]
  },
  {
   "cell_type": "markdown",
   "metadata": {},
   "source": [
    "Confusion Matrix of the Model"
   ]
  },
  {
   "cell_type": "code",
   "execution_count": 29,
   "metadata": {},
   "outputs": [
    {
     "data": {
      "text/plain": [
       "<AxesSubplot:>"
      ]
     },
     "execution_count": 29,
     "metadata": {},
     "output_type": "execute_result"
    },
    {
     "data": {
      "image/png": "[encoded data removed]",
      "text/plain": [
       "<Figure size 576x432 with 2 Axes>"
      ]
     },
     "metadata": {
      "needs_background": "light"
     },
     "output_type": "display_data"
    }
   ],
   "source": [
    "group_names = ['True Neg','False Pos','False Neg','True Pos']\n",
    "group_counts = [\"{0:0.0f}\".format(value) for value in\n",
    "                cf_matrix.flatten()]\n",
    "group_percentages = [\"{0:.2%}\".format(value) for value in\n",
    "                     cf_matrix.flatten()/np.sum(cf_matrix)]\n",
    "labels = [f\"{v1}\\n{v2}\\n{v3}\" for v1, v2, v3 in\n",
    "          zip(group_names,group_counts,group_percentages)]\n",
    "labels = np.asarray(labels).reshape(2,2)\n",
    "plt.figure(figsize=(8, 6))\n",
    "sns.heatmap(cf_matrix, annot=labels, fmt='', cmap='Blues')"
   ]
  },
  {
   "cell_type": "markdown",
   "metadata": {},
   "source": [
    "Importance of the features"
   ]
  },
  {
   "cell_type": "code",
   "execution_count": 30,
   "metadata": {},
   "outputs": [
    {
     "data": {
      "image/png": "[encoded data removed]",
      "text/plain": [
       "<Figure size 864x720 with 1 Axes>"
      ]
     },
     "metadata": {
      "needs_background": "light"
     },
     "output_type": "display_data"
    }
   ],
   "source": [
    "def plot_importance(model, features, num=len(X), save=False):\n",
    "    plt.figure(figsize=(12, 10))\n",
    "    feature_imp = pd.DataFrame({'Value': model.feature_importances_, 'Feature': features.columns})\n",
    "    sns.set(font_scale=1)\n",
    "    sns.barplot(x=\"Value\", y=\"Feature\", data=feature_imp.sort_values(by=\"Value\",\n",
    "                                                                      ascending=False)[0:num])\n",
    "    plt.title('Features')\n",
    "    plt.tight_layout()\n",
    "    plt.show()\n",
    "    if save:\n",
    "        plt.savefig('importances.png')\n",
    "\n",
    "plot_importance(rf_model, X_train)"
   ]
  },
  {
   "cell_type": "markdown",
   "metadata": {},
   "source": [
    "We see that our new ratio features are not have high importance but they are avarage. At this point we could consider to reseach literature and come up with other new features."
   ]
  }
 ],
 "metadata": {
  "kernelspec": {
   "display_name": "Python 3",
   "language": "python",
   "name": "python3"
  },
  "language_info": {
   "codemirror_mode": {
    "name": "ipython",
    "version": 3
   },
   "file_extension": ".py",
   "mimetype": "text/x-python",
   "name": "python",
   "nbconvert_exporter": "python",
   "pygments_lexer": "ipython3",
   "version": "3.10.11"
  },
  "orig_nbformat": 4
 },
 "nbformat": 4,
 "nbformat_minor": 2
}
